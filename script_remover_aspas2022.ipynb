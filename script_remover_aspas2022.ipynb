{
 "cells": [
  {
   "cell_type": "code",
   "execution_count": 1,
   "id": "4a972db4",
   "metadata": {},
   "outputs": [],
   "source": [
    "#Diretórios de entrada e saída do arquivo csv.\n",
    "caminho_original = [r'C:\\Users\\Lucas\\Desktop\\intuitive_care\\teste3\\2022\\ARQUIVOS_ORIGINAIS_2022\\1T2022.csv',\n",
    "                    r'C:\\Users\\Lucas\\Desktop\\intuitive_care\\teste3\\2022\\ARQUIVOS_ORIGINAIS_2022\\2T2022.csv',\n",
    "                    r'C:\\Users\\Lucas\\Desktop\\intuitive_care\\teste3\\2022\\ARQUIVOS_ORIGINAIS_2022\\3T2022.csv',\n",
    "                    r'C:\\Users\\Lucas\\Desktop\\intuitive_care\\teste3\\2022\\ARQUIVOS_ORIGINAIS_2022\\4T2022.csv'                                      \n",
    "                   ]\n",
    "\n",
    "caminho_saida = [r'C:\\Users\\Lucas\\Desktop\\intuitive_care\\teste3\\2022\\1T2022COPIA.csv',\n",
    "                 r'C:\\Users\\Lucas\\Desktop\\intuitive_care\\teste3\\2022\\2T2022COPIA.csv',\n",
    "                 r'C:\\Users\\Lucas\\Desktop\\intuitive_care\\teste3\\2022\\3T2022COPIA.csv',\n",
    "                 r'C:\\Users\\Lucas\\Desktop\\intuitive_care\\teste3\\2022\\4T2022COPIA.csv'\n",
    "                ]"
   ]
  },
  {
   "cell_type": "code",
   "execution_count": 2,
   "id": "e88b5ebd",
   "metadata": {},
   "outputs": [
    {
     "name": "stdout",
     "output_type": "stream",
     "text": [
      "CSV modificado com sucesso!\n",
      "CSV salvo com sucesso!\n",
      "CSV modificado com sucesso!\n",
      "CSV salvo com sucesso!\n",
      "CSV modificado com sucesso!\n",
      "CSV salvo com sucesso!\n",
      "CSV modificado com sucesso!\n",
      "CSV salvo com sucesso!\n"
     ]
    }
   ],
   "source": [
    " #Abrir arquivo e remover as aspas\n",
    "for item_in, item_out in zip(caminho_original, caminho_saida):\n",
    "    with open(item_in, 'r', encoding='latin1') as file_in:\n",
    "        relatorio = file_in.read()\n",
    "        relatorio = relatorio.replace('\\\"', '')\n",
    "        relatorio = relatorio.replace(',', '.')\n",
    "        print(\"CSV modificado com sucesso!\")\n",
    "\n",
    "    with open(item_out, 'w', encoding='latin1') as file_out:\n",
    "        file_out.write(relatorio)\n",
    "        print(\"CSV salvo com sucesso!\")"
   ]
  },
  {
   "cell_type": "code",
   "execution_count": null,
   "id": "e35f1f3e",
   "metadata": {},
   "outputs": [],
   "source": []
  }
 ],
 "metadata": {
  "kernelspec": {
   "display_name": "Python 3 (ipykernel)",
   "language": "python",
   "name": "python3"
  },
  "language_info": {
   "codemirror_mode": {
    "name": "ipython",
    "version": 3
   },
   "file_extension": ".py",
   "mimetype": "text/x-python",
   "name": "python",
   "nbconvert_exporter": "python",
   "pygments_lexer": "ipython3",
   "version": "3.10.9"
  }
 },
 "nbformat": 4,
 "nbformat_minor": 5
}
